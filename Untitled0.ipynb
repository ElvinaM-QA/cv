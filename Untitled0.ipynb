{
  "nbformat": 4,
  "nbformat_minor": 0,
  "metadata": {
    "colab": {
      "provenance": [],
      "authorship_tag": "ABX9TyO3ZUhFqSScrxWU7ic5Q55W",
      "include_colab_link": true
    },
    "kernelspec": {
      "name": "python3",
      "display_name": "Python 3"
    },
    "language_info": {
      "name": "python"
    }
  },
  "cells": [
    {
      "cell_type": "markdown",
      "metadata": {
        "id": "view-in-github",
        "colab_type": "text"
      },
      "source": [
        "<a href=\"https://colab.research.google.com/github/ElvinaM-QA/cv/blob/main/Untitled0.ipynb\" target=\"_parent\"><img src=\"https://colab.research.google.com/assets/colab-badge.svg\" alt=\"Open In Colab\"/></a>"
      ]
    },
    {
      "cell_type": "code",
      "execution_count": 1,
      "metadata": {
        "colab": {
          "base_uri": "https://localhost:8080/"
        },
        "id": "tHxuhdBiTIGG",
        "outputId": "a4eb417b-d92f-4511-cfd0-033b99954d1c"
      },
      "outputs": [
        {
          "output_type": "stream",
          "name": "stdout",
          "text": [
            "Collecting pyTelegramBotAPI\n",
            "  Downloading pyTelegramBotAPI-4.15.4.tar.gz (260 kB)\n",
            "\u001b[?25l     \u001b[90m━━━━━━━━━━━━━━━━━━━━━━━━━━━━━━━━━━━━━━━━\u001b[0m \u001b[32m0.0/260.1 kB\u001b[0m \u001b[31m?\u001b[0m eta \u001b[36m-:--:--\u001b[0m\r\u001b[2K     \u001b[91m━━━━━━━━━━━━━━━━━━━━━━━━━━━━━━━━━━\u001b[0m\u001b[91m╸\u001b[0m\u001b[90m━━━━━\u001b[0m \u001b[32m225.3/260.1 kB\u001b[0m \u001b[31m6.6 MB/s\u001b[0m eta \u001b[36m0:00:01\u001b[0m\r\u001b[2K     \u001b[90m━━━━━━━━━━━━━━━━━━━━━━━━━━━━━━━━━━━━━━━━\u001b[0m \u001b[32m260.1/260.1 kB\u001b[0m \u001b[31m5.4 MB/s\u001b[0m eta \u001b[36m0:00:00\u001b[0m\n",
            "\u001b[?25h  Preparing metadata (setup.py) ... \u001b[?25l\u001b[?25hdone\n",
            "Requirement already satisfied: requests in /usr/local/lib/python3.10/dist-packages (from pyTelegramBotAPI) (2.31.0)\n",
            "Requirement already satisfied: charset-normalizer<4,>=2 in /usr/local/lib/python3.10/dist-packages (from requests->pyTelegramBotAPI) (3.3.2)\n",
            "Requirement already satisfied: idna<4,>=2.5 in /usr/local/lib/python3.10/dist-packages (from requests->pyTelegramBotAPI) (3.6)\n",
            "Requirement already satisfied: urllib3<3,>=1.21.1 in /usr/local/lib/python3.10/dist-packages (from requests->pyTelegramBotAPI) (2.0.7)\n",
            "Requirement already satisfied: certifi>=2017.4.17 in /usr/local/lib/python3.10/dist-packages (from requests->pyTelegramBotAPI) (2023.11.17)\n",
            "Building wheels for collected packages: pyTelegramBotAPI\n",
            "  Building wheel for pyTelegramBotAPI (setup.py) ... \u001b[?25l\u001b[?25hdone\n",
            "  Created wheel for pyTelegramBotAPI: filename=pyTelegramBotAPI-4.15.4-py3-none-any.whl size=231937 sha256=7e080ccec34e66f995c5b0ea79d30b6803c3ed9f0f93176cb0d42909dcb47098\n",
            "  Stored in directory: /root/.cache/pip/wheels/37/50/a0/68519c75209358c42758e5ed2d3c9da9afda4d20a3ac393070\n",
            "Successfully built pyTelegramBotAPI\n",
            "Installing collected packages: pyTelegramBotAPI\n",
            "Successfully installed pyTelegramBotAPI-4.15.4\n"
          ]
        }
      ],
      "source": [
        "!pip install pyTelegramBotAPI"
      ]
    },
    {
      "cell_type": "code",
      "source": [
        "!pip install Faker\n",
        "from telebot import TeleBot, types\n",
        "from faker import Faker\n",
        "\n",
        "\n",
        "bot = TeleBot(token='6506286921:AAHVVxvLg7tBzU4L1xmOuJpl42-cwgWL51o', parse_mode='html') # создание бота\n",
        "\n",
        "faker = Faker() # утилита для генерации номеров кредитных карт\n",
        "\n",
        "# объект клавиаутры\n",
        "card_type_keybaord = types.ReplyKeyboardMarkup(resize_keyboard=True)\n",
        "# первый ряд кнопок\n",
        "card_type_keybaord.row(\n",
        "    types.KeyboardButton(text='VISA'),\n",
        "    types.KeyboardButton(text='Mastercard'),\n",
        ")\n",
        "# второй ряд кнопок\n",
        "card_type_keybaord.row(\n",
        "    types.KeyboardButton(text='Maestro'),\n",
        "    types.KeyboardButton(text='JCB'),\n",
        ")\n",
        "\n",
        "\n",
        "# обработчик команды '/start'\n",
        "@bot.message_handler(commands=['start'])\n",
        "def start_command_handler(message: types.Message):\n",
        "    # отправляем ответ на команду '/start'\n",
        "    bot.send_message(\n",
        "        chat_id=message.chat.id, # id чата, в который необходимо направить сообщение\n",
        "        text='Привет! Я умею генерировать номер тестовой банковской карты\\nВыбери тип карты:', # текст сообщения\n",
        "        reply_markup=card_type_keybaord,\n",
        "    )\n",
        "\n",
        "# обработчик всех остальных сообщений\n",
        "@bot.message_handler()\n",
        "def message_handler(message: types.Message):\n",
        "    # проверяем текст сообщения на совпадение с текстом какой либо из кнопок\n",
        "    # в зависимости от типа карты присваем занчение переменной 'card_type'\n",
        "    if message.text == 'VISA':\n",
        "        card_type = 'visa'\n",
        "    elif message.text == 'Mastercard':\n",
        "        card_type = 'mastercard'\n",
        "    elif message.text == 'Maestro':\n",
        "        card_type = 'maestro'\n",
        "    elif message.text == 'JCB':\n",
        "        card_type = 'jcb'\n",
        "    else:\n",
        "        # если текст не совпал ни с одной из кнопок\n",
        "        # выводим ошибку\n",
        "        bot.send_message(\n",
        "            chat_id=message.chat.id,\n",
        "            text='Не понимаю тебя :(',\n",
        "        )\n",
        "        return\n",
        "\n",
        "    # получаем номер тестовой карты выбранного типа\n",
        "    # card_type может принимать одно из зачений ['maestro', 'mastercard', 'visa13', 'visa16', 'visa19',\n",
        "    # 'amex', 'discover', 'diners', 'jcb15', 'jcb16']\n",
        "    card_number = faker.credit_card_number(card_type)\n",
        "    # и выводим пользователю\n",
        "    bot.send_message(\n",
        "        chat_id=message.chat.id,\n",
        "        text=f'Тестовая карта {card_type}:\\n<code>{card_number}</code>'\n",
        "    )\n",
        "\n",
        "\n",
        "# главная функция программы\n",
        "def main():\n",
        "    # запускаем нашего бота\n",
        "    bot.infinity_polling()\n",
        "\n",
        "\n",
        "if __name__ == '__main__':\n",
        "    main()\n"
      ],
      "metadata": {
        "colab": {
          "base_uri": "https://localhost:8080/"
        },
        "id": "FuYntidbTYyG",
        "outputId": "8e135973-2576-4f66-8d39-ddd8298617a1"
      },
      "execution_count": null,
      "outputs": [
        {
          "output_type": "stream",
          "name": "stdout",
          "text": [
            "Requirement already satisfied: Faker in /usr/local/lib/python3.10/dist-packages (22.6.0)\n",
            "Requirement already satisfied: python-dateutil>=2.4 in /usr/local/lib/python3.10/dist-packages (from Faker) (2.8.2)\n",
            "Requirement already satisfied: six>=1.5 in /usr/local/lib/python3.10/dist-packages (from python-dateutil>=2.4->Faker) (1.16.0)\n"
          ]
        }
      ]
    }
  ]
}